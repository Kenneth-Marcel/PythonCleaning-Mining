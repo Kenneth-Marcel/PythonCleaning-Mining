{
 "cells": [
  {
   "cell_type": "code",
   "execution_count": 2,
   "metadata": {},
   "outputs": [],
   "source": [
    "import pandas as pd\n",
    "import numpy as np\n",
    "from pandas import Series, DataFrame\n",
    "import ipywidgets as widgets\n",
    "from IPython import display"
   ]
  },
  {
   "cell_type": "markdown",
   "metadata": {},
   "source": [
    "### Creating a Pandas DF from scratch"
   ]
  },
  {
   "cell_type": "code",
   "execution_count": 13,
   "metadata": {},
   "outputs": [
    {
     "name": "stdout",
     "output_type": "stream",
     "text": [
      "    rank  sex location\n",
      "p1     7    1       NL\n",
      "p2     5    0       WL\n",
      "p3     6    1       EL\n",
      "p4     7    1       WL\n",
      "p5     5    0       SL\n",
      "p6     9    1       CL\n"
     ]
    }
   ],
   "source": [
    "#Create a DF to work with\n",
    "#from dictionary to pandas DF:\n",
    "dict = {\n",
    "    'rank': np.array([7,5,6,7,5,9]),\n",
    "    'sex': [1,0,1,1,0,1],\n",
    "    'location': ['NL','WL', 'EL', 'WL'\n",
    "                 , 'SL', 'CL']\n",
    "}\n",
    "\n",
    "df = pd.DataFrame(dict, index =['p1', 'p2','p3'\n",
    "                                , 'p4','p5', 'p6'])\n",
    "print(df)"
   ]
  },
  {
   "cell_type": "code",
   "execution_count": 25,
   "metadata": {},
   "outputs": [
    {
     "name": "stdout",
     "output_type": "stream",
     "text": [
      "   rank sex location\n",
      "p1    7   1       NL\n",
      "p2    5   0       WL\n",
      "p3    6   1       EL\n"
     ]
    }
   ],
   "source": [
    "#Another way of making a DF\n",
    "#Each variable(s1-s3) represents an individual case\n",
    "#e.g. p1 from the table above is = s1 , s2=p2 etc.:\n",
    "\n",
    "s1,s2,s3 = [7,1,'NL'] , [5,0,'WL'] , [6,1,'EL']\n",
    "series = [s1,s2,s3]\n",
    "df2 = pd.DataFrame(np.array(series)\n",
    "                   ,index= ['p1', 'p2','p3']\n",
    "                   ,columns= ['rank', 'sex','location'])\n",
    "print(df2)"
   ]
  },
  {
   "cell_type": "code",
   "execution_count": 14,
   "metadata": {},
   "outputs": [
    {
     "data": {
      "application/vnd.jupyter.widget-view+json": {
       "model_id": "ce85f7ae02ca4456b24b5056a8e78dca",
       "version_major": 2,
       "version_minor": 0
      },
      "text/plain": [
       "HBox(children=(Output(),))"
      ]
     },
     "metadata": {},
     "output_type": "display_data"
    }
   ],
   "source": [
    "#Making new Dataset for examples\n",
    "np.random.seed(25)\n",
    "x = np.random.rand(16).reshape((4,4))\n",
    "\n",
    "df3 = pd.DataFrame(x, index = ['r1', 'r2', 'r3', 'r4']\n",
    "                   , columns =['c1','c2','c3','c4'])\n",
    "\n",
    "widget = widgets.Output()\n",
    "with widget:\n",
    "    display.display(df3)\n",
    "    \n",
    "hbox = widgets.HBox([widget])\n",
    "hbox"
   ]
  },
  {
   "cell_type": "markdown",
   "metadata": {},
   "source": [
    "### Selecting/retrieving data"
   ]
  },
  {
   "cell_type": "code",
   "execution_count": 6,
   "metadata": {},
   "outputs": [
    {
     "name": "stdout",
     "output_type": "stream",
     "text": [
      "r1    0\n",
      "r2    1\n",
      "r3    2\n",
      "r4    3\n",
      "r5    4\n",
      "dtype: int32\n"
     ]
    }
   ],
   "source": [
    "#How to call a row from a 1dimensional table\n",
    "#firstly create a 1d table:\n",
    "\n",
    "ser = Series(np.arange(5), index=['r1', 'r2', 'r3', 'r4', 'r5'])\n",
    "print(ser)"
   ]
  },
  {
   "cell_type": "code",
   "execution_count": 26,
   "metadata": {
    "scrolled": true
   },
   "outputs": [
    {
     "name": "stdout",
     "output_type": "stream",
     "text": [
      "          c3\n",
      "r2  0.684969\n",
      "          c1        c2        c3\n",
      "r3  0.556229  0.367080  0.402366\n",
      "r4  0.447031  0.585445  0.161985\n"
     ]
    }
   ],
   "source": [
    "#take df3, a 4x4 table,\n",
    "#call row2, column3:\n",
    "print(df3.iloc[1:2,2:3])\n",
    "\n",
    "\n",
    "#segment a part of df3\n",
    "print(df3.iloc[2:4,0:3])"
   ]
  },
  {
   "cell_type": "markdown",
   "metadata": {},
   "source": [
    "### Data Slicing"
   ]
  },
  {
   "cell_type": "code",
   "execution_count": 13,
   "metadata": {},
   "outputs": [
    {
     "name": "stdout",
     "output_type": "stream",
     "text": [
      "          c2        c3\n",
      "r3  0.367080  0.402366\n",
      "r4  0.585445  0.161985\n"
     ]
    }
   ],
   "source": [
    "\n",
    "#Index a DF with laballed rows and columns:\n",
    "#print(df3.ix[['r1', 'r2'],['', 'sex']])\n",
    "\n",
    "#Using iloc and loc functions for indexing:\n",
    "\n",
    "df3split = (df3.iloc[2:4, 1:3])\n",
    "print(df3split)"
   ]
  },
  {
   "cell_type": "markdown",
   "metadata": {},
   "source": [
    "### Comparing with scalars"
   ]
  },
  {
   "cell_type": "code",
   "execution_count": 11,
   "metadata": {},
   "outputs": [
    {
     "name": "stdout",
     "output_type": "stream",
     "text": [
      "       c1     c2     c3     c4\n",
      "r1  False  False  False   True\n",
      "r2  False   True  False  False\n",
      "r3  False  False  False   True\n",
      "r4  False  False   True  False\n"
     ]
    }
   ],
   "source": [
    "print(df3<.2)"
   ]
  },
  {
   "cell_type": "markdown",
   "metadata": {},
   "source": [
    "### Setting values with scalars"
   ]
  },
  {
   "cell_type": "code",
   "execution_count": 15,
   "metadata": {},
   "outputs": [
    {
     "name": "stdout",
     "output_type": "stream",
     "text": [
      "          c1        c2        c3        c4\n",
      "r1  0.870124  0.582277  0.278839  0.185911\n",
      "r2  0.411100  0.117376  0.684969  0.437611\n",
      "r3  0.556229  0.367080  0.402366  0.113041\n",
      "r4  0.447031  0.585445  0.161985  0.520719\n"
     ]
    }
   ],
   "source": [
    "print(df3)"
   ]
  },
  {
   "cell_type": "code",
   "execution_count": 23,
   "metadata": {},
   "outputs": [
    {
     "name": "stdout",
     "output_type": "stream",
     "text": [
      "          c1        c2        c3        c4\n",
      "r1  0.870124  0.582277  0.278839  0.185911\n",
      "r2  0.411100  0.110000  0.684969  0.437611\n",
      "r3  0.556229  0.367080  0.402366  0.113041\n",
      "r4  0.447031  0.585445  0.161985  0.520719\n"
     ]
    }
   ],
   "source": [
    "(df3.iloc[1:2,1:2]) = 0.110000\n",
    "print(df3)"
   ]
  },
  {
   "cell_type": "markdown",
   "metadata": {},
   "source": [
    "### Treating missing values: missing data"
   ]
  },
  {
   "cell_type": "code",
   "execution_count": 30,
   "metadata": {
    "scrolled": true
   },
   "outputs": [
    {
     "name": "stdout",
     "output_type": "stream",
     "text": [
      "          c1        c2        c3        c4\n",
      "r1  0.870124  0.582277  0.278839  0.185911\n",
      "r2  0.411100  0.110000  0.684969       NaN\n",
      "r3  0.556229  0.367080  0.402366  0.113041\n",
      "r4       NaN  0.585445  0.161985  0.520719\n"
     ]
    }
   ],
   "source": [
    "#creating missing values in df3:\n",
    "missing = np.nan\n",
    "\n",
    "df3.iloc[1:2,3:4] = missing\n",
    "df3.iloc[3:4,0:1] = missing ,\n",
    "print(df3)"
   ]
  },
  {
   "cell_type": "code",
   "execution_count": 31,
   "metadata": {},
   "outputs": [
    {
     "data": {
      "text/html": [
       "<div>\n",
       "<style scoped>\n",
       "    .dataframe tbody tr th:only-of-type {\n",
       "        vertical-align: middle;\n",
       "    }\n",
       "\n",
       "    .dataframe tbody tr th {\n",
       "        vertical-align: top;\n",
       "    }\n",
       "\n",
       "    .dataframe thead th {\n",
       "        text-align: right;\n",
       "    }\n",
       "</style>\n",
       "<table border=\"1\" class=\"dataframe\">\n",
       "  <thead>\n",
       "    <tr style=\"text-align: right;\">\n",
       "      <th></th>\n",
       "      <th>c1</th>\n",
       "      <th>c2</th>\n",
       "      <th>c3</th>\n",
       "      <th>c4</th>\n",
       "    </tr>\n",
       "  </thead>\n",
       "  <tbody>\n",
       "    <tr>\n",
       "      <th>r1</th>\n",
       "      <td>False</td>\n",
       "      <td>False</td>\n",
       "      <td>False</td>\n",
       "      <td>False</td>\n",
       "    </tr>\n",
       "    <tr>\n",
       "      <th>r2</th>\n",
       "      <td>False</td>\n",
       "      <td>False</td>\n",
       "      <td>False</td>\n",
       "      <td>True</td>\n",
       "    </tr>\n",
       "    <tr>\n",
       "      <th>r3</th>\n",
       "      <td>False</td>\n",
       "      <td>False</td>\n",
       "      <td>False</td>\n",
       "      <td>False</td>\n",
       "    </tr>\n",
       "    <tr>\n",
       "      <th>r4</th>\n",
       "      <td>True</td>\n",
       "      <td>False</td>\n",
       "      <td>False</td>\n",
       "      <td>False</td>\n",
       "    </tr>\n",
       "  </tbody>\n",
       "</table>\n",
       "</div>"
      ],
      "text/plain": [
       "       c1     c2     c3     c4\n",
       "r1  False  False  False  False\n",
       "r2  False  False  False   True\n",
       "r3  False  False  False  False\n",
       "r4   True  False  False  False"
      ]
     },
     "execution_count": 31,
     "metadata": {},
     "output_type": "execute_result"
    }
   ],
   "source": [
    "#checking what a null value is.\n",
    "df3.isnull()"
   ]
  },
  {
   "cell_type": "code",
   "execution_count": null,
   "metadata": {},
   "outputs": [],
   "source": [
    "#filling in missing values:\n"
   ]
  }
 ],
 "metadata": {
  "kernelspec": {
   "display_name": "Python 3",
   "language": "python",
   "name": "python3"
  },
  "language_info": {
   "codemirror_mode": {
    "name": "ipython",
    "version": 3
   },
   "file_extension": ".py",
   "mimetype": "text/x-python",
   "name": "python",
   "nbconvert_exporter": "python",
   "pygments_lexer": "ipython3",
   "version": "3.7.3"
  }
 },
 "nbformat": 4,
 "nbformat_minor": 2
}
